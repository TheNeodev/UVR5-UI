{
  "cells": [
    {
      "cell_type": "markdown",
      "metadata": {
        "id": "view-in-github",
        "colab_type": "text"
      },
      "source": [
        "<a href=\"https://colab.research.google.com/github/TheNeodev/UVR5-UI/blob/main/UVR_UI.ipynb\" target=\"_parent\"><img src=\"https://colab.research.google.com/assets/colab-badge.svg\" alt=\"Open In Colab\"/></a>"
      ]
    },
    {
      "cell_type": "markdown",
      "source": [
        "# **🎵 UVR5 UI 🎵**"
      ],
      "metadata": {
        "id": "IKsiREVTTMgP"
      }
    },
    {
      "cell_type": "markdown",
      "source": [
        "Colab created by **[Not Eddy (Spanish Mod)](http://discord.com/users/274566299349155851)** in **[AI HUB](https://discord.gg/aihub)** community.\n",
        "\n",
        "<br> **If you liked this colab you can star my repo on [GitHub](https://github.com/Eddycrack864/UVR5-UI).** <br>\n",
        "\n",
        "<br>You can donate to the original UVR5 project here:<br>\n",
        "[![\"Buy Me A Coffee\"](https://www.buymeacoffee.com/assets/img/custom_images/orange_img.png)](https://www.buymeacoffee.com/uvr5)\n",
        "\n",
        "Special credits to **[ArisDev](https://github.com/aris-py)** for porting UVR5 UI to Kaggle and improvements, and **[NeoDev](https://github.com/theneodev)** for the LocalTunnel method and uv installation.\n",
        "\n",
        "![](https://count.nett.moe/get/uvr5_ui_colab/img?theme=rule34)"
      ],
      "metadata": {
        "id": "Kx7dJ1-DTQbi"
      }
    },
    {
      "cell_type": "code",
      "source": [
        "#@title # **Installation**\n",
        "#@markdown ####This takes around 3-4 minutes\n",
        "from IPython.display import clear_output\n",
        "from google.colab import drive\n",
        "import codecs\n",
        "drive.mount('/content/drive', force_remount=True)\n",
        "gitrepo = codecs.decode('uggcf://tvguho.pbz/Rqqlpenpx864/HIE5-HV.tvg','rot_13')\n",
        "repopath = codecs.decode('HIE5-HV/erdhverzragf.gkg','rot_13')\n",
        "\n",
        "!sudo apt update\n",
        "!sudo apt install python3.10\n",
        "!sudo update-alternatives --install /usr/bin/python3 python3 /usr/bin/python3.10 1\n",
        "!sudo update-alternatives --set python3 /usr/bin/python3.10\n",
        "!curl -sS https://bootstrap.pypa.io/get-pip.py | python3\n",
        "import sys\n",
        "sys.path.append('/usr/local/lib/python3.10/dist-packages')\n",
        "!git clone $gitrepo\n",
        "\n",
        "!pip install uv\n",
        "!uv pip install -r $repopath -q\n",
        "!uv pip install pyngrok\n",
        "!apt-get update\n",
        "#!pip install ort-nightly-gpu --index-url=https://aiinfra.pkgs.visualstudio.com/PublicPackages/_packaging/ort-cuda-12-nightly/pypi/simple/\n",
        "!apt-get install -y libcudnn8\n",
        "clear_output()\n",
        "print('Installation done !')"
      ],
      "metadata": {
        "id": "oXYEyNjdWaMm",
        "cellView": "form"
      },
      "execution_count": null,
      "outputs": []
    },
    {
      "cell_type": "code",
      "source": [
        "# @title **Run UVR UI**\n",
        "# @markdown  ### Choose a sharing method:\n",
        "#@markdown ---\n",
        "#@markdown - Token is only needed if you are using Ngrok. You can make an account on [ngrok](https://dashboard.ngrok.com/signup) for free.\n",
        "#@markdown - Click [this link](https://dashboard.ngrok.com/get-started/your-authtoken) to get your auth token, and place it here:\n",
        "\n",
        "import codecs\n",
        "import threading\n",
        "import urllib.request\n",
        "import time\n",
        "import ipywidgets as widgets\n",
        "from IPython.display import display\n",
        "import os\n",
        "from pyngrok import ngrok\n",
        "os.environ['TF_CPP_MIN_LOG_LEVEL'] = '3'\n",
        "\n",
        "method = \"gradio\"  # @param [\"gradio\", \"localtunnel\", \"ngrok\"]\n",
        "\n",
        "ngrok_token = \"empty\" # @param {type:\"string\"}\n",
        "app = codecs.decode('ncc.cl','rot_13')\n",
        "\n",
        "\n",
        "\n",
        "def start_gradio():\n",
        "    !python $app --share\n",
        "\n",
        "def start_localtunnel():\n",
        "    !npm install -g localtunnel &>/dev/null\n",
        "    with open('url.txt', 'w') as file:\n",
        "        file.write('')\n",
        "    get_ipython().system_raw('lt --port 9999 >> url.txt 2>&1 &')\n",
        "    time.sleep(2)\n",
        "    endpoint_ip = urllib.request.urlopen('https://ipv4.icanhazip.com').read().decode('utf8').strip(\"\\n\")\n",
        "\n",
        "    with open('url.txt', 'r') as file:\n",
        "        tunnel_url = file.read()\n",
        "        tunnel_url = tunnel_url.replace(\"your url is: \", \"\")\n",
        "\n",
        "    print(f\"Share Link: \\033[0m\\033[93m{tunnel_url}\\033[0m\", end=\"\\033[0m\\n\")\n",
        "\n",
        "    password_endpoint_widget = widgets.Text(\n",
        "    value=endpoint_ip,\n",
        "    description='Password IP:',\n",
        "    disabled=True\n",
        "    )\n",
        "    display(password_endpoint_widget)\n",
        "    !python $app\n",
        "\n",
        "\n",
        "def start_ngrok():\n",
        "    try:\n",
        "        ngrok.set_auth_token(ngrok_token)\n",
        "        ngrok.kill()\n",
        "        tunnel = ngrok.connect(9999)\n",
        "        print(f\"Ngrok URL: \\033[0m\\033[93m{tunnel.public_url}\\033[0m\", end=\"\\033[0m\\n\")\n",
        "        !python $app --listen\n",
        "    except Exception as e:\n",
        "        print(f\"Error starting ngrok: {e}\")\n",
        "\n",
        "def start_app():\n",
        "    if method == 'gradio':\n",
        "        start_gradio()\n",
        "    elif method == 'localtunnel':\n",
        "        start_localtunnel()\n",
        "    elif method == 'ngrok':\n",
        "        start_ngrok()\n",
        "\n",
        "\n",
        "\n",
        "thread_app = threading.Thread(target=start_app)\n",
        "thread_app.start()\n",
        "\n",
        "\n",
        "while True:\n",
        "    time.sleep(5)"
      ],
      "metadata": {
        "cellView": "form",
        "id": "reDml8IO9PDP"
      },
      "execution_count": null,
      "outputs": []
    }
  ],
  "metadata": {
    "accelerator": "GPU",
    "colab": {
      "gpuType": "T4",
      "provenance": [],
      "private_outputs": true,
      "include_colab_link": true
    },
    "kernelspec": {
      "display_name": "Python 3",
      "name": "python3"
    },
    "language_info": {
      "name": "python"
    }
  },
  "nbformat": 4,
  "nbformat_minor": 0
}